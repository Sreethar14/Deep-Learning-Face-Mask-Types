{
 "cells": [
  {
   "cell_type": "code",
   "execution_count": 1,
   "id": "5252790b-e549-4808-adad-d7353d97459a",
   "metadata": {},
   "outputs": [],
   "source": [
    "import cv2\n",
    "import random\n",
    "from ultralytics import YOLO\n",
    "from ultralytics.yolo.v8.detect.predict import DetectionPredictor"
   ]
  },
  {
   "cell_type": "code",
   "execution_count": 2,
   "id": "311ecc9a-3614-4202-b45e-1763538456b6",
   "metadata": {},
   "outputs": [],
   "source": [
    "model = YOLO(\"yolov8n-face.pt\")"
   ]
  },
  {
   "cell_type": "code",
   "execution_count": 3,
   "id": "cbd26f91-543e-4517-839a-99f81bba0efe",
   "metadata": {},
   "outputs": [],
   "source": [
    "# Load the YOLO model\n",
    "model = YOLO(r'C:\\Users\\sreet\\OneDrive\\Documents\\Hope AI\\16.Deep Learning\\Face Mask .Yolo-V8\\runs\\detect\\train\\weights\\best.pt')"
   ]
  },
  {
   "cell_type": "code",
   "execution_count": 4,
   "id": "f6e06500-7251-47a2-9af7-1de82dfb11ac",
   "metadata": {},
   "outputs": [],
   "source": [
    "# Define a list of colors (one for each class)\n",
    "colors = {}\n",
    "\n",
    "def detect_Face_Mask(frame):\n",
    "    Face_Mask = Face_Mask_cascade.detectMultiScale(frame, 1.15, 4)\n",
    "    for (x, y, w, h) in FaceMask:\n",
    "        cv2.rectangle(frame, (x, y), (x+w,y+h), color=(0, 255, 0), thickness=2)\n",
    "    return frame"
   ]
  },
  {
   "cell_type": "code",
   "execution_count": 5,
   "id": "5e073851-85c6-49ab-9573-0058bfbaee76",
   "metadata": {},
   "outputs": [],
   "source": [
    "def Simulator():\n",
    "    With,Face_Mask_Video = cv2.VideoCapture('Western and Asian habits still differ, but the coronavirus pandemic is normalising mask-wearing.mp4')\n",
    "    while Face_MaskVideo.isOpened():\n",
    "        ret, frame = Face_Mask_Video.read()\n",
    "        controlkey = cv2.waitKey(1)\n",
    "        if ret:        \n",
    "            FaceMask_frame = detect_FaceMask(frame)\n",
    "            cv2.imshow('frame',Face_Mask_frame)\n",
    "        else:\n",
    "            break\n",
    "        if controlkey == ord('q'):\n",
    "            break\n",
    "\n",
    "    Face_MaskVideo.release()\n",
    "    cv2.destroyAllWindows()"
   ]
  },
  {
   "cell_type": "code",
   "execution_count": null,
   "id": "70c8b0e4-79eb-49c1-ac77-63a7a608e60c",
   "metadata": {},
   "outputs": [
    {
     "name": "stderr",
     "output_type": "stream",
     "text": [
      "Ultralytics YOLOv8.0.20  Python-3.10.0 torch-2.3.1+cpu CPU\n",
      "YOLOv8n summary (fused): 168 layers, 3007013 parameters, 0 gradients, 8.1 GFLOPs\n"
     ]
    }
   ],
   "source": [
    "results = model.predict(source=\"C:\\\\Users\\\\sreet\\\\OneDrive\\\\Documents\\\\Hope AI\\\\16.Deep Learning\\\\Face Mask .Yolo-V8\\\\test_videos\", show=True)\n",
    "print(results)"
   ]
  },
  {
   "cell_type": "code",
   "execution_count": null,
   "id": "82c3032d-2888-41f6-a893-c01300e1ff7c",
   "metadata": {},
   "outputs": [],
   "source": []
  }
 ],
 "metadata": {
  "kernelspec": {
   "display_name": "Python 3 (ipykernel)",
   "language": "python",
   "name": "python3"
  },
  "language_info": {
   "codemirror_mode": {
    "name": "ipython",
    "version": 3
   },
   "file_extension": ".py",
   "mimetype": "text/x-python",
   "name": "python",
   "nbconvert_exporter": "python",
   "pygments_lexer": "ipython3",
   "version": "3.10.0"
  }
 },
 "nbformat": 4,
 "nbformat_minor": 5
}
